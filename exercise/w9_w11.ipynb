{
 "cells": [
  {
   "cell_type": "code",
   "execution_count": 20,
   "id": "1dfa7593-30d5-4e7a-ad5e-b10f452dfaed",
   "metadata": {},
   "outputs": [],
   "source": [
    "# Read NetworkX package\n",
    "# https://networkx.org/documentation/stable/index.html\n",
    "import networkx as nx\n",
    "import pandas as pd\n",
    "from tqdm.notebook import tqdm\n",
    "import matplotlib.pyplot as plt\n",
    "import networkx.algorithms.community as nx_comm\n",
    "import seaborn as sns\n",
    "\n",
    "colors={\n",
    "    'b':'#4285F4',\n",
    "    'r':'#DB4437',\n",
    "    'y':'#F4B400',\n",
    "    'g':'#0F9D58',\n",
    "    'gray':'#D3D3D3',\n",
    "    'purple':'#550a8a'\n",
    "}"
   ]
  },
  {
   "cell_type": "code",
   "execution_count": 11,
   "id": "d837c654-3886-4a7b-b9a1-15c2bc9afc52",
   "metadata": {},
   "outputs": [],
   "source": [
    "df_policy_has_pa_scholarly=pd.read_pickle('./sample_dta/df_policy_has_pa_scholarly_sample.pkl.bz2')"
   ]
  },
  {
   "cell_type": "markdown",
   "id": "9cf217c3-8c14-496a-95d9-f57604ea5abe",
   "metadata": {},
   "source": [
    "# Network Construction"
   ]
  },
  {
   "cell_type": "code",
   "execution_count": 12,
   "id": "3b80ef91-388a-4cc6-a445-7ffddd8eb4e7",
   "metadata": {},
   "outputs": [],
   "source": [
    "# Create bipartite graph.\n",
    "# https://networkx.org/documentation/stable/reference/algorithms/bipartite.html\n",
    "# https://en.wikipedia.org/wiki/Bipartite_graph\n",
    "g_policy_scholarly=nx.Graph() # Define graph\n",
    "g_policy_scholarly.add_nodes_from(df_policy_has_pa_scholarly.policy_document_id, bipartite='policy_document_id') # Add first set of nodes and label.\n",
    "g_policy_scholarly.add_nodes_from(df_policy_has_pa_scholarly.scholarly_doi, bipartite='scholarly_doi') # Add second set of nodes and label.\n",
    "g_policy_scholarly.add_edges_from(df_policy_has_pa_scholarly[['policy_document_id','scholarly_doi']].values) # Add edges"
   ]
  },
  {
   "cell_type": "code",
   "execution_count": 13,
   "id": "249d8505-4ff1-4a3b-b040-24651d062545",
   "metadata": {},
   "outputs": [],
   "source": [
    "# Project to only article network, i.e., co-occurrence/co-citation network. \n",
    "# https://en.wikipedia.org/wiki/Co-occurrence_network\n",
    "# https://en.wikipedia.org/wiki/Co-citation\n",
    "g_scholarly=nx.projected_graph(g_policy_scholarly, df_policy_has_pa_scholarly.scholarly_doi)"
   ]
  },
  {
   "cell_type": "code",
   "execution_count": 14,
   "id": "66590d0e-9cd9-4f06-ae9b-bffaa60d9a2c",
   "metadata": {},
   "outputs": [
    {
     "data": {
      "text/plain": [
       "15746"
      ]
     },
     "execution_count": 14,
     "metadata": {},
     "output_type": "execute_result"
    }
   ],
   "source": [
    "# The network contains too many nodes for analysis. \n",
    "len(g_scholarly)"
   ]
  },
  {
   "cell_type": "markdown",
   "id": "080f8096-d0e3-4890-9af1-07064bf2a719",
   "metadata": {},
   "source": [
    "#   Network Pruning and Visualization"
   ]
  },
  {
   "cell_type": "code",
   "execution_count": 15,
   "id": "9ff534a0-dc87-453a-ad42-58ab7723708d",
   "metadata": {},
   "outputs": [
    {
     "data": {
      "application/vnd.jupyter.widget-view+json": {
       "model_id": "8e366dd901354d2c9e13a8bd0486c036",
       "version_major": 2,
       "version_minor": 0
      },
      "text/plain": [
       "  0%|          | 0/20 [00:00<?, ?it/s]"
      ]
     },
     "metadata": {},
     "output_type": "display_data"
    }
   ],
   "source": [
    "# Network pruning using k-core. Let's try different Ks.\n",
    "# https://networkx.org/documentation/stable/reference/algorithms/generated/networkx.algorithms.core.k_core.html\n",
    "# Another approach commonly employed is removing isolated nodes.\n",
    "\n",
    "node_comm_nums=[]\n",
    "for k in tqdm(range(0, 20, 1)):\n",
    "    g_scholarly_k=nx.k_core(g_scholarly, k=k)\n",
    "    lv_comm_tmp=nx_comm.louvain_communities(g_scholarly_k, weight='weight', resolution=1, threshold=1e-07, seed=512)\n",
    "    node_comm_nums+=[[k, len(g_scholarly_k), len(lv_comm_tmp)]]"
   ]
  },
  {
   "cell_type": "code",
   "execution_count": 16,
   "id": "6781b436-4695-4835-9dee-21a106aa4455",
   "metadata": {},
   "outputs": [
    {
     "data": {
      "text/html": [
       "<div>\n",
       "<style scoped>\n",
       "    .dataframe tbody tr th:only-of-type {\n",
       "        vertical-align: middle;\n",
       "    }\n",
       "\n",
       "    .dataframe tbody tr th {\n",
       "        vertical-align: top;\n",
       "    }\n",
       "\n",
       "    .dataframe thead th {\n",
       "        text-align: right;\n",
       "    }\n",
       "</style>\n",
       "<table border=\"1\" class=\"dataframe\">\n",
       "  <thead>\n",
       "    <tr style=\"text-align: right;\">\n",
       "      <th></th>\n",
       "      <th>k</th>\n",
       "      <th>#Article</th>\n",
       "      <th>#Cluster</th>\n",
       "    </tr>\n",
       "  </thead>\n",
       "  <tbody>\n",
       "    <tr>\n",
       "      <th>0</th>\n",
       "      <td>0</td>\n",
       "      <td>15746</td>\n",
       "      <td>6574</td>\n",
       "    </tr>\n",
       "    <tr>\n",
       "      <th>1</th>\n",
       "      <td>1</td>\n",
       "      <td>10135</td>\n",
       "      <td>963</td>\n",
       "    </tr>\n",
       "    <tr>\n",
       "      <th>2</th>\n",
       "      <td>2</td>\n",
       "      <td>7371</td>\n",
       "      <td>271</td>\n",
       "    </tr>\n",
       "    <tr>\n",
       "      <th>3</th>\n",
       "      <td>3</td>\n",
       "      <td>5636</td>\n",
       "      <td>112</td>\n",
       "    </tr>\n",
       "    <tr>\n",
       "      <th>4</th>\n",
       "      <td>4</td>\n",
       "      <td>4513</td>\n",
       "      <td>77</td>\n",
       "    </tr>\n",
       "    <tr>\n",
       "      <th>5</th>\n",
       "      <td>5</td>\n",
       "      <td>3678</td>\n",
       "      <td>66</td>\n",
       "    </tr>\n",
       "    <tr>\n",
       "      <th>6</th>\n",
       "      <td>6</td>\n",
       "      <td>3117</td>\n",
       "      <td>56</td>\n",
       "    </tr>\n",
       "    <tr>\n",
       "      <th>7</th>\n",
       "      <td>7</td>\n",
       "      <td>2705</td>\n",
       "      <td>45</td>\n",
       "    </tr>\n",
       "    <tr>\n",
       "      <th>8</th>\n",
       "      <td>8</td>\n",
       "      <td>2330</td>\n",
       "      <td>43</td>\n",
       "    </tr>\n",
       "    <tr>\n",
       "      <th>9</th>\n",
       "      <td>9</td>\n",
       "      <td>1975</td>\n",
       "      <td>39</td>\n",
       "    </tr>\n",
       "    <tr>\n",
       "      <th>10</th>\n",
       "      <td>10</td>\n",
       "      <td>1773</td>\n",
       "      <td>34</td>\n",
       "    </tr>\n",
       "    <tr>\n",
       "      <th>11</th>\n",
       "      <td>11</td>\n",
       "      <td>1567</td>\n",
       "      <td>30</td>\n",
       "    </tr>\n",
       "    <tr>\n",
       "      <th>12</th>\n",
       "      <td>12</td>\n",
       "      <td>1340</td>\n",
       "      <td>28</td>\n",
       "    </tr>\n",
       "    <tr>\n",
       "      <th>13</th>\n",
       "      <td>13</td>\n",
       "      <td>1179</td>\n",
       "      <td>25</td>\n",
       "    </tr>\n",
       "    <tr>\n",
       "      <th>14</th>\n",
       "      <td>14</td>\n",
       "      <td>1042</td>\n",
       "      <td>23</td>\n",
       "    </tr>\n",
       "    <tr>\n",
       "      <th>15</th>\n",
       "      <td>15</td>\n",
       "      <td>978</td>\n",
       "      <td>24</td>\n",
       "    </tr>\n",
       "    <tr>\n",
       "      <th>16</th>\n",
       "      <td>16</td>\n",
       "      <td>927</td>\n",
       "      <td>24</td>\n",
       "    </tr>\n",
       "    <tr>\n",
       "      <th>17</th>\n",
       "      <td>17</td>\n",
       "      <td>801</td>\n",
       "      <td>22</td>\n",
       "    </tr>\n",
       "    <tr>\n",
       "      <th>18</th>\n",
       "      <td>18</td>\n",
       "      <td>750</td>\n",
       "      <td>20</td>\n",
       "    </tr>\n",
       "    <tr>\n",
       "      <th>19</th>\n",
       "      <td>19</td>\n",
       "      <td>743</td>\n",
       "      <td>21</td>\n",
       "    </tr>\n",
       "  </tbody>\n",
       "</table>\n",
       "</div>"
      ],
      "text/plain": [
       "     k  #Article  #Cluster\n",
       "0    0     15746      6574\n",
       "1    1     10135       963\n",
       "2    2      7371       271\n",
       "3    3      5636       112\n",
       "4    4      4513        77\n",
       "5    5      3678        66\n",
       "6    6      3117        56\n",
       "7    7      2705        45\n",
       "8    8      2330        43\n",
       "9    9      1975        39\n",
       "10  10      1773        34\n",
       "11  11      1567        30\n",
       "12  12      1340        28\n",
       "13  13      1179        25\n",
       "14  14      1042        23\n",
       "15  15       978        24\n",
       "16  16       927        24\n",
       "17  17       801        22\n",
       "18  18       750        20\n",
       "19  19       743        21"
      ]
     },
     "execution_count": 16,
     "metadata": {},
     "output_type": "execute_result"
    }
   ],
   "source": [
    "df_k_test=pd.DataFrame(node_comm_nums).rename(columns={0:'k', 1:'#Article', 2:'#Cluster'})\n",
    "df_k_test"
   ]
  },
  {
   "cell_type": "code",
   "execution_count": 22,
   "id": "f2eaa174-d076-4b61-9776-88a2bcb3780e",
   "metadata": {},
   "outputs": [
    {
     "name": "stderr",
     "output_type": "stream",
     "text": [
      "/tmp/ipykernel_895852/3015408536.py:15: UserWarning: FixedFormatter should only be used together with FixedLocator\n",
      "  ylabels = ['{:,.1f}'.format(x) + 'K' for x in (ax2.get_yticks()/1000)]; ax2.set_yticklabels(ylabels)\n"
     ]
    },
    {
     "data": {
      "text/plain": [
       "Text(0.5, 0, '$k\\\\_core$')"
      ]
     },
     "execution_count": 22,
     "metadata": {},
     "output_type": "execute_result"
    },
    {
     "data": {
      "image/png": "[encoded data removed]",
      "text/plain": [
       "<Figure size 1200x600 with 2 Axes>"
      ]
     },
     "metadata": {},
     "output_type": "display_data"
    }
   ],
   "source": [
    "from matplotlib.ticker import MaxNLocator\n",
    "\n",
    "sns.set_style(\"whitegrid\")\n",
    "fig, ax1 = plt.subplots(figsize=(12,6))\n",
    "\n",
    "sns.barplot(x=df_k_test.k, y=df_k_test['#Cluster'], color=colors['b'], ax=ax1, alpha=.8)\n",
    "plt.xticks(fontsize=12); plt.yticks(fontsize=12); ax1.set_ylabel(ylabel='#Cluster (blue; log scale)', fontsize=14)\n",
    "ax1.set_yscale('log')\n",
    "ax2=ax1.twinx()\n",
    "\n",
    "sns.lineplot(x=df_k_test.k, y=df_k_test['#Article'], color=colors['r'], ax=ax2, alpha=.8)\n",
    "plt.xticks(fontsize=12); plt.yticks(fontsize=12); ax2.set_ylabel(ylabel='#Article (red)', fontsize=14)\n",
    "\n",
    "# More formatting.\n",
    "ylabels = ['{:,.1f}'.format(x) + 'K' for x in (ax2.get_yticks()/1000)]; ax2.set_yticklabels(ylabels)\n",
    "ax1.get_xticklabels()[13].set_color(\"red\")\n",
    "ax1.set_xlabel(xlabel='$k\\_core$', fontsize=14)"
   ]
  },
  {
   "cell_type": "code",
   "execution_count": 23,
   "id": "b65c225a-193b-407e-93ed-9543200c1c99",
   "metadata": {},
   "outputs": [],
   "source": [
    "g_scholarly_k=nx.k_core(g_scholarly, k=13)\n",
    "\n",
    "# Export to files\n",
    "# Analyze in Gephi: https://gephi.org/\n",
    "nx.write_graphml(g_scholarly_k, './g_scholarly_k.graphml')\n",
    "nx.write_graphml(g_scholarly, './g_scholarly.graphml')"
   ]
  },
  {
   "cell_type": "markdown",
   "id": "cd0ee231-cf48-4b8a-9d48-48b7ec63052a",
   "metadata": {},
   "source": [
    "# Network Analysis and Visualization"
   ]
  },
  {
   "cell_type": "code",
   "execution_count": 25,
   "id": "675c9726-70c9-4e12-b20f-a58a163cc271",
   "metadata": {},
   "outputs": [
    {
     "data": {
      "text/plain": [
       "1179"
      ]
     },
     "execution_count": 25,
     "metadata": {},
     "output_type": "execute_result"
    }
   ],
   "source": [
    "len(g_scholarly_k)"
   ]
  },
  {
   "cell_type": "code",
   "execution_count": 26,
   "id": "46a320fc-149c-4d98-8fd6-6bc081fa1e91",
   "metadata": {},
   "outputs": [
    {
     "data": {
      "text/plain": [
       "(6574, 25)"
      ]
     },
     "execution_count": 26,
     "metadata": {},
     "output_type": "execute_result"
    }
   ],
   "source": [
    "lv_communities=nx_comm.louvain_communities(g_scholarly, weight='weight', resolution=1, threshold=1e-07, seed=512)\n",
    "lv_communities_k=nx_comm.louvain_communities(g_scholarly_k, weight='weight', resolution=1, threshold=1e-07, seed=512)\n",
    "len(lv_communities), len(lv_communities_k)"
   ]
  },
  {
   "cell_type": "code",
   "execution_count": 27,
   "id": "52af767e-7817-421d-b541-47d2c0cbc673",
   "metadata": {},
   "outputs": [],
   "source": [
    "# Network measures\n",
    "deg_dict=nx.degree(g_scholarly_k)\n",
    "deg_cent_dict=nx.degree_centrality(g_scholarly_k)\n",
    "btw_cent_dict=nx.betweenness_centrality(g_scholarly_k, k=None, normalized=True, weight='weight', endpoints=False, seed=512)"
   ]
  },
  {
   "cell_type": "code",
   "execution_count": 28,
   "id": "395e4ec5-4908-4fc3-adab-5e0b7d02fa5b",
   "metadata": {},
   "outputs": [],
   "source": [
    "# Nonnetwork measures: policy citation counts\n",
    "df_policy_citation_tmp=df_policy_has_pa_scholarly.groupby('scholarly_doi').count()"
   ]
  },
  {
   "cell_type": "code",
   "execution_count": 30,
   "id": "7b7c4c57-7a5b-4b35-92fe-48c6771230c0",
   "metadata": {},
   "outputs": [],
   "source": [
    "# Add more attributes to nodes\n",
    "comm_num=1\n",
    "for comm in lv_communities_k:\n",
    "    for node in comm:\n",
    "        g_scholarly_k.nodes[node]['policy_citation']=df_policy_citation_tmp.loc[node, 'policy_document_id']\n",
    "        g_scholarly_k.nodes[node]['degree']=deg_dict[node]\n",
    "        g_scholarly_k.nodes[node]['dgr_cent']=deg_cent_dict[node]\n",
    "        g_scholarly_k.nodes[node]['btw_cent']=btw_cent_dict[node]\n",
    "        g_scholarly_k.nodes[node]['comm_num']=comm_num\n",
    "    comm_num+=1"
   ]
  },
  {
   "cell_type": "code",
   "execution_count": 62,
   "id": "80a6009f-64ed-44bb-ad6b-58d4681edae0",
   "metadata": {},
   "outputs": [
    {
     "data": {
      "text/plain": [
       "[{'bipartite': 'scholarly_doi',\n",
       "  'policy_citation': 4,\n",
       "  'degree': 39,\n",
       "  'dgr_cent': 0.03310696095076401,\n",
       "  'btw_cent': 0.0012193402396826643,\n",
       "  'comm_num': 23},\n",
       " {'bipartite': 'scholarly_doi',\n",
       "  'policy_citation': 4,\n",
       "  'degree': 30,\n",
       "  'dgr_cent': 0.025466893039049237,\n",
       "  'btw_cent': 0.0010130452199333345,\n",
       "  'comm_num': 1},\n",
       " {'bipartite': 'scholarly_doi',\n",
       "  'policy_citation': 1,\n",
       "  'degree': 20,\n",
       "  'dgr_cent': 0.01697792869269949,\n",
       "  'btw_cent': 0.0,\n",
       "  'comm_num': 1},\n",
       " {'bipartite': 'scholarly_doi',\n",
       "  'policy_citation': 1,\n",
       "  'degree': 36,\n",
       "  'dgr_cent': 0.030560271646859084,\n",
       "  'btw_cent': 0.0,\n",
       "  'comm_num': 22},\n",
       " {'bipartite': 'scholarly_doi',\n",
       "  'policy_citation': 1,\n",
       "  'degree': 16,\n",
       "  'dgr_cent': 0.013582342954159592,\n",
       "  'btw_cent': 0.0,\n",
       "  'comm_num': 1}]"
      ]
     },
     "execution_count": 62,
     "metadata": {},
     "output_type": "execute_result"
    }
   ],
   "source": [
    "list(dict(g_scholarly_k.nodes(data=True)).values())[0:5]"
   ]
  },
  {
   "cell_type": "markdown",
   "id": "eadf99c6-a636-45f8-ad71-b5b3546a4ebd",
   "metadata": {},
   "source": [
    "# Hypothesis Testing"
   ]
  },
  {
   "cell_type": "code",
   "execution_count": 36,
   "id": "c73dde72-7a20-4c30-9579-07f98082ac00",
   "metadata": {},
   "outputs": [
    {
     "data": {
      "text/html": [
       "<div>\n",
       "<style scoped>\n",
       "    .dataframe tbody tr th:only-of-type {\n",
       "        vertical-align: middle;\n",
       "    }\n",
       "\n",
       "    .dataframe tbody tr th {\n",
       "        vertical-align: top;\n",
       "    }\n",
       "\n",
       "    .dataframe thead th {\n",
       "        text-align: right;\n",
       "    }\n",
       "</style>\n",
       "<table border=\"1\" class=\"dataframe\">\n",
       "  <thead>\n",
       "    <tr style=\"text-align: right;\">\n",
       "      <th></th>\n",
       "      <th>bipartite</th>\n",
       "      <th>policy_citation</th>\n",
       "      <th>degree</th>\n",
       "      <th>dgr_cent</th>\n",
       "      <th>btw_cent</th>\n",
       "      <th>comm_num</th>\n",
       "    </tr>\n",
       "  </thead>\n",
       "  <tbody>\n",
       "    <tr>\n",
       "      <th>10.1111/j.1467-8500.2004.00379.x</th>\n",
       "      <td>scholarly_doi</td>\n",
       "      <td>4</td>\n",
       "      <td>39</td>\n",
       "      <td>0.033107</td>\n",
       "      <td>0.001219</td>\n",
       "      <td>23</td>\n",
       "    </tr>\n",
       "    <tr>\n",
       "      <th>10.1080/14719030701726697</th>\n",
       "      <td>scholarly_doi</td>\n",
       "      <td>4</td>\n",
       "      <td>30</td>\n",
       "      <td>0.025467</td>\n",
       "      <td>0.001013</td>\n",
       "      <td>1</td>\n",
       "    </tr>\n",
       "    <tr>\n",
       "      <th>10.1177/0734371x10394405</th>\n",
       "      <td>scholarly_doi</td>\n",
       "      <td>1</td>\n",
       "      <td>20</td>\n",
       "      <td>0.016978</td>\n",
       "      <td>0.000000</td>\n",
       "      <td>1</td>\n",
       "    </tr>\n",
       "    <tr>\n",
       "      <th>10.1186/1478-4491-11-30</th>\n",
       "      <td>scholarly_doi</td>\n",
       "      <td>1</td>\n",
       "      <td>36</td>\n",
       "      <td>0.030560</td>\n",
       "      <td>0.000000</td>\n",
       "      <td>22</td>\n",
       "    </tr>\n",
       "    <tr>\n",
       "      <th>10.1177/0734371x10394402</th>\n",
       "      <td>scholarly_doi</td>\n",
       "      <td>1</td>\n",
       "      <td>16</td>\n",
       "      <td>0.013582</td>\n",
       "      <td>0.000000</td>\n",
       "      <td>1</td>\n",
       "    </tr>\n",
       "    <tr>\n",
       "      <th>...</th>\n",
       "      <td>...</td>\n",
       "      <td>...</td>\n",
       "      <td>...</td>\n",
       "      <td>...</td>\n",
       "      <td>...</td>\n",
       "      <td>...</td>\n",
       "    </tr>\n",
       "    <tr>\n",
       "      <th>10.2307/975472</th>\n",
       "      <td>scholarly_doi</td>\n",
       "      <td>3</td>\n",
       "      <td>14</td>\n",
       "      <td>0.011885</td>\n",
       "      <td>0.000000</td>\n",
       "      <td>1</td>\n",
       "    </tr>\n",
       "    <tr>\n",
       "      <th>10.1177/109114210002800101</th>\n",
       "      <td>scholarly_doi</td>\n",
       "      <td>4</td>\n",
       "      <td>13</td>\n",
       "      <td>0.011036</td>\n",
       "      <td>0.000000</td>\n",
       "      <td>13</td>\n",
       "    </tr>\n",
       "    <tr>\n",
       "      <th>10.1111/j.1467-9299.2011.01954.x</th>\n",
       "      <td>scholarly_doi</td>\n",
       "      <td>5</td>\n",
       "      <td>14</td>\n",
       "      <td>0.011885</td>\n",
       "      <td>0.000003</td>\n",
       "      <td>5</td>\n",
       "    </tr>\n",
       "    <tr>\n",
       "      <th>10.1111/puar.12380</th>\n",
       "      <td>scholarly_doi</td>\n",
       "      <td>3</td>\n",
       "      <td>19</td>\n",
       "      <td>0.016129</td>\n",
       "      <td>0.000000</td>\n",
       "      <td>6</td>\n",
       "    </tr>\n",
       "    <tr>\n",
       "      <th>10.1111/issr.12111</th>\n",
       "      <td>scholarly_doi</td>\n",
       "      <td>2</td>\n",
       "      <td>13</td>\n",
       "      <td>0.011036</td>\n",
       "      <td>0.000000</td>\n",
       "      <td>20</td>\n",
       "    </tr>\n",
       "  </tbody>\n",
       "</table>\n",
       "<p>1179 rows × 6 columns</p>\n",
       "</div>"
      ],
      "text/plain": [
       "                                      bipartite  policy_citation  degree  \\\n",
       "10.1111/j.1467-8500.2004.00379.x  scholarly_doi                4      39   \n",
       "10.1080/14719030701726697         scholarly_doi                4      30   \n",
       "10.1177/0734371x10394405          scholarly_doi                1      20   \n",
       "10.1186/1478-4491-11-30           scholarly_doi                1      36   \n",
       "10.1177/0734371x10394402          scholarly_doi                1      16   \n",
       "...                                         ...              ...     ...   \n",
       "10.2307/975472                    scholarly_doi                3      14   \n",
       "10.1177/109114210002800101        scholarly_doi                4      13   \n",
       "10.1111/j.1467-9299.2011.01954.x  scholarly_doi                5      14   \n",
       "10.1111/puar.12380                scholarly_doi                3      19   \n",
       "10.1111/issr.12111                scholarly_doi                2      13   \n",
       "\n",
       "                                  dgr_cent  btw_cent  comm_num  \n",
       "10.1111/j.1467-8500.2004.00379.x  0.033107  0.001219        23  \n",
       "10.1080/14719030701726697         0.025467  0.001013         1  \n",
       "10.1177/0734371x10394405          0.016978  0.000000         1  \n",
       "10.1186/1478-4491-11-30           0.030560  0.000000        22  \n",
       "10.1177/0734371x10394402          0.013582  0.000000         1  \n",
       "...                                    ...       ...       ...  \n",
       "10.2307/975472                    0.011885  0.000000         1  \n",
       "10.1177/109114210002800101        0.011036  0.000000        13  \n",
       "10.1111/j.1467-9299.2011.01954.x  0.011885  0.000003         5  \n",
       "10.1111/puar.12380                0.016129  0.000000         6  \n",
       "10.1111/issr.12111                0.011036  0.000000        20  \n",
       "\n",
       "[1179 rows x 6 columns]"
      ]
     },
     "execution_count": 36,
     "metadata": {},
     "output_type": "execute_result"
    }
   ],
   "source": [
    "# Reorganize the data as tidy format\n",
    "df_g_scholarly_k_attr=pd.DataFrame.from_dict(dict(g_scholarly_k.nodes(data=True)), orient='index')\n",
    "df_g_scholarly_k_attr"
   ]
  },
  {
   "cell_type": "code",
   "execution_count": 64,
   "id": "1fd9769b-fd65-440e-9845-3d8f555b23ee",
   "metadata": {},
   "outputs": [
    {
     "name": "stdout",
     "output_type": "stream",
     "text": [
      "                            OLS Regression Results                            \n",
      "==============================================================================\n",
      "Dep. Variable:        policy_citation   R-squared:                       0.191\n",
      "Model:                            OLS   Adj. R-squared:                  0.173\n",
      "Method:                 Least Squares   F-statistic:                     8.218\n",
      "Date:                Mon, 03 Apr 2023   Prob (F-statistic):           2.11e-28\n",
      "Time:                        04:00:25   Log-Likelihood:                -4425.0\n",
      "No. Observations:                1179   AIC:                             8904.\n",
      "Df Residuals:                    1152   BIC:                             9041.\n",
      "Df Model:                          26                                         \n",
      "Covariance Type:                  HC0                                         \n",
      "=====================================================================================\n",
      "                        coef    std err          z      P>|z|      [0.025      0.975]\n",
      "-------------------------------------------------------------------------------------\n",
      "Intercept             4.1876      2.681      1.562      0.118      -1.066       9.442\n",
      "C(comm_num)[T.2]     -1.4182      0.810     -1.750      0.080      -3.006       0.170\n",
      "C(comm_num)[T.3]      3.1783      4.430      0.717      0.473      -5.504      11.861\n",
      "C(comm_num)[T.4]      0.3063      2.127      0.144      0.886      -3.863       4.475\n",
      "C(comm_num)[T.5]     -0.3858      0.607     -0.635      0.525      -1.576       0.804\n",
      "C(comm_num)[T.6]     -0.2215      1.202     -0.184      0.854      -2.578       2.135\n",
      "C(comm_num)[T.7]     -0.7101      0.915     -0.776      0.438      -2.503       1.083\n",
      "C(comm_num)[T.8]     -1.9368      0.765     -2.533      0.011      -3.436      -0.438\n",
      "C(comm_num)[T.9]     -0.8712      0.724     -1.203      0.229      -2.291       0.548\n",
      "C(comm_num)[T.10]     0.7073      4.035      0.175      0.861      -7.202       8.617\n",
      "C(comm_num)[T.11]    -1.1299      0.610     -1.853      0.064      -2.325       0.065\n",
      "C(comm_num)[T.12]    -1.8078      0.796     -2.272      0.023      -3.367      -0.248\n",
      "C(comm_num)[T.13]     1.5854      2.285      0.694      0.488      -2.893       6.064\n",
      "C(comm_num)[T.14]    -0.7172      1.280     -0.561      0.575      -3.225       1.791\n",
      "C(comm_num)[T.15]    -0.1623      1.330     -0.122      0.903      -2.769       2.445\n",
      "C(comm_num)[T.16]     0.5186      1.267      0.409      0.682      -1.964       3.002\n",
      "C(comm_num)[T.17]    -1.0467      1.544     -0.678      0.498      -4.073       1.980\n",
      "C(comm_num)[T.18]    -0.9274      0.924     -1.004      0.316      -2.739       0.884\n",
      "C(comm_num)[T.19]    -1.8945      0.854     -2.220      0.026      -3.567      -0.222\n",
      "C(comm_num)[T.20]    -0.1671      0.785     -0.213      0.831      -1.705       1.371\n",
      "C(comm_num)[T.21]    -0.7103      0.908     -0.782      0.434      -2.490       1.070\n",
      "C(comm_num)[T.22]     0.6569      0.545      1.206      0.228      -0.411       1.725\n",
      "C(comm_num)[T.23]     5.5140      6.429      0.858      0.391      -7.086      18.114\n",
      "C(comm_num)[T.24]    -0.0293      0.879     -0.033      0.973      -1.752       1.694\n",
      "C(comm_num)[T.25]    -1.3173      1.242     -1.060      0.289      -3.752       1.118\n",
      "degree               -0.0540      0.118     -0.458      0.647      -0.285       0.177\n",
      "dgr_cent          -4.581e-05      0.000     -0.458      0.647      -0.000       0.000\n",
      "btw_cent            680.1143    204.526      3.325      0.001     279.251    1080.978\n",
      "==============================================================================\n",
      "Omnibus:                     2677.454   Durbin-Watson:                   2.004\n",
      "Prob(Omnibus):                  0.000   Jarque-Bera (JB):         14232538.035\n",
      "Skew:                          20.243   Prob(JB):                         0.00\n",
      "Kurtosis:                     539.733   Cond. No.                     1.13e+16\n",
      "==============================================================================\n",
      "\n",
      "Notes:\n",
      "[1] Standard Errors are heteroscedasticity robust (HC0)\n",
      "[2] The smallest eigenvalue is 9.39e-27. This might indicate that there are\n",
      "strong multicollinearity problems or that the design matrix is singular.\n"
     ]
    },
    {
     "name": "stderr",
     "output_type": "stream",
     "text": [
      "/root/anaconda3/lib/python3.10/site-packages/statsmodels/base/model.py:1871: ValueWarning: covariance of constraints does not have full rank. The number of constraints is 27, but rank is 26\n",
      "  warnings.warn('covariance of constraints does not have full '\n"
     ]
    }
   ],
   "source": [
    "# Run a simple regression\n",
    "import statsmodels.formula.api as smf\n",
    "mod = smf.ols(formula='policy_citation ~ degree + dgr_cent + btw_cent + C(comm_num)', data=df_g_scholarly_k_attr)\n",
    "res = mod.fit(cov_type='HC0')\n",
    "print(res.summary())"
   ]
  },
  {
   "cell_type": "markdown",
   "id": "a2bcfa2e-7797-402d-ad4a-9b52ffe10dd0",
   "metadata": {},
   "source": [
    "<mark>***How can you improve the anlaysis?***</mark>"
   ]
  }
 ],
 "metadata": {
  "kernelspec": {
   "display_name": "Python 3 (ipykernel)",
   "language": "python",
   "name": "python3"
  },
  "language_info": {
   "codemirror_mode": {
    "name": "ipython",
    "version": 3
   },
   "file_extension": ".py",
   "mimetype": "text/x-python",
   "name": "python",
   "nbconvert_exporter": "python",
   "pygments_lexer": "ipython3",
   "version": "3.10.9"
  }
 },
 "nbformat": 4,
 "nbformat_minor": 5
}
